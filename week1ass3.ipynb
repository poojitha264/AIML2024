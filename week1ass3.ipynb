{
  "nbformat": 4,
  "nbformat_minor": 0,
  "metadata": {
    "colab": {
      "provenance": []
    },
    "kernelspec": {
      "name": "python3",
      "display_name": "Python 3"
    },
    "language_info": {
      "name": "python"
    }
  },
  "cells": [
    {
      "cell_type": "code",
      "execution_count": null,
      "metadata": {
        "id": "2ws94pM4Vu3K"
      },
      "outputs": [],
      "source": [
        "import pandas as pd\n",
        "df_tsv = pd.read_csv('/content/2203A52204 - Sheet1.tsv', sep='\\t')\n",
        "print(df_tsv)\n",
        "df_csv = pd.read_csv('/content/2203A52204 - Sheet1.csv')\n",
        "print(df_csv)\n",
        "df_xlsx = pd.read_excel(\"/content/2203A52204.xlsx\")\n",
        "print(df_xlsx)\n",
        "url = \"https://github.com/2203A52204/aiml_ass3\"\n",
        "df_url = pd.read_csv(url,'\\t')\n",
        "print(df_url)"
      ]
    }
  ]
}