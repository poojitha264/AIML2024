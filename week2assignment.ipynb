{
  "nbformat": 4,
  "nbformat_minor": 0,
  "metadata": {
    "colab": {
      "provenance": []
    },
    "kernelspec": {
      "name": "python3",
      "display_name": "Python 3"
    },
    "language_info": {
      "name": "python"
    }
  },
  "cells": [
    {
      "cell_type": "code",
      "source": [
        "#assignment 1"
      ],
      "metadata": {
        "id": "s-WJ_6hAWEwH"
      },
      "execution_count": null,
      "outputs": []
    },
    {
      "cell_type": "code",
      "execution_count": null,
      "metadata": {
        "colab": {
          "base_uri": "https://localhost:8080/"
        },
        "id": "zqBPlKtLQZFt",
        "outputId": "7b4f9d80-5d0b-4caf-bc52-5377896c969a"
      },
      "outputs": [
        {
          "output_type": "stream",
          "name": "stdout",
          "text": [
            "DFS Traversal starting from node 0:\n",
            "0 1 2 3 "
          ]
        }
      ],
      "source": [
        "from collections import defaultdict\n",
        "\n",
        "class Graph:\n",
        "    def __init__(self):\n",
        "        self.graph = defaultdict(list)\n",
        "\n",
        "    def add_edge(self, u, v):\n",
        "        self.graph[u].append(v)\n",
        "\n",
        "    def dfs(self, node, visited):\n",
        "        visited[node] = True\n",
        "        print(node, end=' ')\n",
        "\n",
        "        for neighbor in self.graph[node]:\n",
        "            if not visited[neighbor]:\n",
        "                self.dfs(neighbor, visited)\n",
        "\n",
        "    def dfs_traversal(self, start_node):\n",
        "        visited = [False] * len(self.graph)\n",
        "        self.dfs(start_node, visited)\n",
        "\n",
        "# Example usage:\n",
        "g = Graph()\n",
        "g.add_edge(0, 1)\n",
        "g.add_edge(0, 2)\n",
        "g.add_edge(1, 2)\n",
        "g.add_edge(2, 0)\n",
        "g.add_edge(2, 3)\n",
        "g.add_edge(3, 3)\n",
        "\n",
        "print(\"DFS Traversal starting from node 0:\")\n",
        "g.dfs_traversal(0)\n"
      ]
    },
    {
      "cell_type": "code",
      "source": [
        "from collections import defaultdict\n",
        "\n",
        "class Graph:\n",
        "    def __init__(self):\n",
        "        self.graph = defaultdict(list)\n",
        "\n",
        "    def add_edge(self, u, v):\n",
        "        self.graph[u].append(v)\n",
        "\n",
        "    def print_adjacent_nodes(self, node):\n",
        "        print(f\"Adjacent nodes of node {node}: {self.graph[node]}\")\n",
        "\n",
        "# Example usage:\n",
        "g = Graph()\n",
        "g.add_edge(0, 1)\n",
        "g.add_edge(0, 2)\n",
        "g.add_edge(1, 2)\n",
        "g.add_edge(2, 0)\n",
        "g.add_edge(2, 3)\n",
        "g.add_edge(3, 3)\n",
        "\n",
        "# Print adjacent nodes of the first index (node 0)\n",
        "g.print_adjacent_nodes(0)\n"
      ],
      "metadata": {
        "colab": {
          "base_uri": "https://localhost:8080/"
        },
        "id": "dta6BWLNVxiK",
        "outputId": "d122435f-5361-4cf6-8d1d-545811487d2c"
      },
      "execution_count": null,
      "outputs": [
        {
          "output_type": "stream",
          "name": "stdout",
          "text": [
            "Adjacent nodes of node 0: [1, 2]\n"
          ]
        }
      ]
    },
    {
      "cell_type": "code",
      "source": [
        "#assignment 2"
      ],
      "metadata": {
        "id": "KajzoiIRV6iJ"
      },
      "execution_count": null,
      "outputs": []
    },
    {
      "cell_type": "code",
      "source": [
        "def dfs(graph, start, visited=None):\n",
        "    if visited is None:\n",
        "        visited = set()\n",
        "    visited.add(start)\n",
        "    print(start, end=' ')\n",
        "\n",
        "    for neighbor in graph[start]:\n",
        "        if neighbor not in visited:\n",
        "            dfs(graph, neighbor, visited)\n",
        "\n",
        "# Example usage:\n",
        "graph = {\n",
        "    'A': ['B', 'S'],\n",
        "    'B': ['A'],\n",
        "    'C': ['D', 'E', 'F', 'S'],\n",
        "    'D': ['C'],\n",
        "    'E': ['C', 'H'],\n",
        "    'F': ['C', 'G'],\n",
        "    'G': ['F', 'S'],\n",
        "    'H': ['E'],\n",
        "    'S': ['A', 'C', 'G']\n",
        "}\n",
        "\n",
        "start_node = 'A'\n",
        "print(\"DFS Traversal:\")\n",
        "dfs(graph, start_node)\n"
      ],
      "metadata": {
        "colab": {
          "base_uri": "https://localhost:8080/"
        },
        "id": "zW1Qcy_yXqAo",
        "outputId": "a7a20b4f-c2c8-49e6-f724-5c2cc0b7708d"
      },
      "execution_count": null,
      "outputs": [
        {
          "output_type": "stream",
          "name": "stdout",
          "text": [
            "DFS Traversal:\n",
            "A B S C D E H F G "
          ]
        }
      ]
    },
    {
      "cell_type": "code",
      "source": [
        "import heapq\n",
        "\n",
        "def astar(graph, start, goal):\n",
        "    open_set = [(0, start)]  # Priority queue to keep track of nodes to be explored\n",
        "    came_from = {}           # Dictionary to store the parent node of each visited node\n",
        "    g_score = {node: float('inf') for node in graph}  # Cost from start to each node\n",
        "    g_score[start] = 0\n",
        "\n",
        "    while open_set:\n",
        "        current_cost, current_node = heapq.heappop(open_set)\n",
        "\n",
        "        if current_node == goal:\n",
        "            path = reconstruct_path(came_from, goal)\n",
        "            return path\n",
        "\n",
        "        for neighbor, cost in graph[current_node]:\n",
        "            tentative_g_score = g_score[current_node] + cost\n",
        "\n",
        "            if tentative_g_score < g_score[neighbor]:\n",
        "                g_score[neighbor] = tentative_g_score\n",
        "                priority = tentative_g_score + heuristic(neighbor, goal)\n",
        "                heapq.heappush(open_set, (priority, neighbor))\n",
        "                came_from[neighbor] = current_node\n",
        "\n",
        "    return None  # No path found\n",
        "\n",
        "def reconstruct_path(came_from, goal):\n",
        "    path = [goal]\n",
        "    while goal in came_from:\n",
        "        goal = came_from[goal]\n",
        "        path.insert(0, goal)\n",
        "    return path\n",
        "\n",
        "def heuristic(node, goal):\n",
        "    # This is a simple heuristic function, you might need to customize it based on your specific problem\n",
        "    return 0\n",
        "\n",
        "# Example usage:\n",
        "graph = {\n",
        "    'A': [('B', 1), ('S', 4)],\n",
        "    'B': [('A', 1)],\n",
        "    'C': [('D', 1), ('E', 4), ('F', 2), ('S', 3)],\n",
        "    'D': [('C', 1)],\n",
        "    'E': [('C', 4), ('H', 5)],\n",
        "    'F': [('C', 2), ('G', 2)],\n",
        "    'G': [('F', 2), ('S', 3)],\n",
        "    'H': [('E', 5)],\n",
        "    'S': [('A', 4), ('C', 3), ('G', 3)]\n",
        "}\n",
        "\n",
        "start_node = 'A'\n",
        "goal_node = 'G'\n",
        "\n",
        "path = astar(graph, start_node, goal_node)\n",
        "\n",
        "if path:\n",
        "    print(f\"A* Path from {start_node} to {goal_node}: {path}\")\n",
        "else:\n",
        "    print(f\"No path found from {start_node} to {goal_node}\")\n"
      ],
      "metadata": {
        "colab": {
          "base_uri": "https://localhost:8080/"
        },
        "id": "z5dj32EeXqqs",
        "outputId": "6f43f652-91a4-472d-92fc-15b5f393f107"
      },
      "execution_count": null,
      "outputs": [
        {
          "output_type": "stream",
          "name": "stdout",
          "text": [
            "A* Path from A to G: ['A', 'S', 'G']\n"
          ]
        }
      ]
    },
    {
      "cell_type": "code",
      "source": [],
      "metadata": {
        "id": "eJH-7cKXYEuZ"
      },
      "execution_count": null,
      "outputs": []
    }
  ]
}